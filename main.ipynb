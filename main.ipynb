{
 "cells": [
  {
   "cell_type": "code",
   "execution_count": 1,
   "id": "dbadab72-9738-4b7c-acce-5cea76d5eb96",
   "metadata": {},
   "outputs": [
    {
     "name": "stderr",
     "output_type": "stream",
     "text": [
      "2024-01-24 10:07:38,951 - ConfigManagerClass - DEBUG - Name: load_json_runtime_table_ids - Line: 55 - Loaded runtime_table_ids_json: {'table_ids': ['_sessions', '_users', '_items', '_transaction_items', '_transactions', '__prod_users_details']}\n"
     ]
    }
   ],
   "source": [
    "# Import the necessary modules\n",
    "from google.cloud import bigquery\n",
    "\n",
    "from classes.BigQueryIO import BigQueryIO\n",
    "from classes.ConfigManager import ConfigManager\n",
    "\n",
    "#Setup configuration\n",
    "config = ConfigManager(\n",
    "    yaml_filepath='C:/Users/Admin/OneDrive/Desktop/_work/__repos (unpublished)/_____CONFIG/google-analytics-insight-generation/config',\n",
    "    yaml_filename='config.yaml'\n",
    "    )\n",
    "\n",
    "#Create Clients\n",
    "bq_client = bigquery.Client(project = config.bq_project_id)\n",
    "bq_io = BigQueryIO(bq_client)"
   ]
  },
  {
   "cell_type": "code",
   "execution_count": 2,
   "id": "e58706d9",
   "metadata": {},
   "outputs": [],
   "source": [
    "# Set to query using .sql or create/replace table on BigQuery\n",
    "query_vs_create = 'create' #'query'\n",
    "\n",
    "# Set table_id to create/query BigQuery (use table_id explicitly, '', 'all', or None)\n",
    "runtime_table_id = '_transaction_items' # _transaction_items"
   ]
  },
  {
   "cell_type": "code",
   "execution_count": 3,
   "id": "35e063f6",
   "metadata": {},
   "outputs": [
    {
     "name": "stdout",
     "output_type": "stream",
     "text": [
      "runtime_table_ids_json (type: <class 'dict'>):{'table_ids': ['_sessions', '_users', '_items', '_transaction_items', '_transactions', '__prod_users_details']}\n",
      "runtime_table_ids_json['table_ids'] (type: <class 'list'>): ['_sessions', '_users', '_items', '_transaction_items', '_transactions', '__prod_users_details']\n",
      "table_ids: '['_transaction_items']'\n"
     ]
    }
   ],
   "source": [
    "# Get ready for looping!\n",
    "print(f\"runtime_table_ids_json (type: {type(config.runtime_table_ids_json)}):{config.runtime_table_ids_json}\")\n",
    "print(f\"runtime_table_ids_json['table_ids'] (type: {type(config.runtime_table_ids_json['table_ids'])}): {config.runtime_table_ids_json['table_ids']}\")\n",
    "\n",
    "#If custom table ID is set\n",
    "if runtime_table_id != 'all' and runtime_table_id != '' and runtime_table_id is not None:\n",
    "    try:\n",
    "        if runtime_table_id not in config.runtime_table_ids_json['table_ids']:\n",
    "            raise ValueError(f\"Error: runtime_table_id: '{runtime_table_id}' not found in runtime_table_ids_json\")\n",
    "        else:\n",
    "            table_ids = [runtime_table_id]\n",
    "            print(f\"table_ids: '{table_ids}'\")\n",
    "    except KeyError:\n",
    "        print(f\"Error: Table ID '{runtime_table_id}' not found in configuration.\")\n",
    "    \n",
    "    except ValueError as e:\n",
    "        print(e)\n",
    "\n",
    "#If set to 'all'\n",
    "else:\n",
    "    table_ids = config.runtime_table_ids_json['table_ids']\n",
    "    print(f\"table_ids: {table_ids}\")"
   ]
  },
  {
   "cell_type": "code",
   "execution_count": 5,
   "id": "b6c172c3",
   "metadata": {},
   "outputs": [
    {
     "name": "stderr",
     "output_type": "stream",
     "text": [
      "2024-01-24 10:09:07,963 - bigquery_io - INFO - Name: _generate_bq_query_from_file - Line: 58 - The BigQuery table creation query for [_transaction_items] was generated from a local file:\n",
      "2024-01-24 10:09:07,963 - bigquery_io - INFO - Name: _generate_bq_query_from_file - Line: 62 - \n",
      "\n"
     ]
    },
    {
     "name": "stdout",
     "output_type": "stream",
     "text": [
      "this is the config.bq_table_config: {'_transaction_items': {'execution_order_id': 1, 'dataset_id': 'key-utility-407314.eh_ga4_stg', 'query_path': 'C:/_repos/google-analytics-insight-generation/sql/_transaction_items.sql', 'schema': [{'name': 'name', 'type': 'STRING', 'mode': 'REQUIRED'}, {'name': 'age', 'type': 'INTEGER', 'mode': 'REQUIRED'}]}, '_items': {'execution_order_id': 1, 'dataset_id': 'key-utility-407314.eh_ga4_stg', 'query_path': 'C:/_repos/google-analytics-insight-generation/sql/_items.sql', 'schema': [{'name': 'name', 'type': 'STRING', 'mode': 'REQUIRED'}, {'name': 'age', 'type': 'INTEGER', 'mode': 'REQUIRED'}]}, '_transactions': {'execution_order_id': 1, 'dataset_id': 'key-utility-407314.eh_ga4_stg', 'query_path': 'C:/_repos/google-analytics-insight-generation/sql/_transactions.sql', 'schema': [{'name': 'name', 'type': 'STRING', 'mode': 'REQUIRED'}, {'name': 'age', 'type': 'INTEGER', 'mode': 'REQUIRED'}]}, '_users': {'execution_order_id': 1, 'dataset_id': 'key-utility-407314.eh_ga4_stg', 'query_path': 'C:/_repos/google-analytics-insight-generation/sql/_users.sql', 'schema': [{'name': 'name', 'type': 'STRING', 'mode': 'REQUIRED'}, {'name': 'age', 'type': 'INTEGER', 'mode': 'REQUIRED'}]}, '_sessions': {'execution_order_id': 1, 'dataset_id': 'key-utility-407314.eh_ga4_stg', 'query_path': 'C:/_repos/google-analytics-insight-generation/sql/_sessions.sql', 'schema': [{'name': 'name', 'type': 'STRING', 'mode': 'REQUIRED'}, {'name': 'age', 'type': 'INTEGER', 'mode': 'REQUIRED'}]}, '__prod_users_details': {'execution_order_id': 2, 'dataset_id': 'key-utility-407314.eh_ga4_prod', 'query_path': 'C:/_repos/google-analytics-insight-generation/sql/__prod_users_details.sql', 'schema': [{'name': 'name', 'type': 'STRING', 'mode': 'REQUIRED'}, {'name': 'age', 'type': 'INTEGER', 'mode': 'REQUIRED'}]}}\n",
      "this is the bq_table_config: {'_transaction_items': {'execution_order_id': 1, 'dataset_id': 'key-utility-407314.eh_ga4_stg', 'query_path': 'C:/_repos/google-analytics-insight-generation/sql/_transaction_items.sql', 'schema': [{'name': 'name', 'type': 'STRING', 'mode': 'REQUIRED'}, {'name': 'age', 'type': 'INTEGER', 'mode': 'REQUIRED'}]}, '_items': {'execution_order_id': 1, 'dataset_id': 'key-utility-407314.eh_ga4_stg', 'query_path': 'C:/_repos/google-analytics-insight-generation/sql/_items.sql', 'schema': [{'name': 'name', 'type': 'STRING', 'mode': 'REQUIRED'}, {'name': 'age', 'type': 'INTEGER', 'mode': 'REQUIRED'}]}, '_transactions': {'execution_order_id': 1, 'dataset_id': 'key-utility-407314.eh_ga4_stg', 'query_path': 'C:/_repos/google-analytics-insight-generation/sql/_transactions.sql', 'schema': [{'name': 'name', 'type': 'STRING', 'mode': 'REQUIRED'}, {'name': 'age', 'type': 'INTEGER', 'mode': 'REQUIRED'}]}, '_users': {'execution_order_id': 1, 'dataset_id': 'key-utility-407314.eh_ga4_stg', 'query_path': 'C:/_repos/google-analytics-insight-generation/sql/_users.sql', 'schema': [{'name': 'name', 'type': 'STRING', 'mode': 'REQUIRED'}, {'name': 'age', 'type': 'INTEGER', 'mode': 'REQUIRED'}]}, '_sessions': {'execution_order_id': 1, 'dataset_id': 'key-utility-407314.eh_ga4_stg', 'query_path': 'C:/_repos/google-analytics-insight-generation/sql/_sessions.sql', 'schema': [{'name': 'name', 'type': 'STRING', 'mode': 'REQUIRED'}, {'name': 'age', 'type': 'INTEGER', 'mode': 'REQUIRED'}]}, '__prod_users_details': {'execution_order_id': 2, 'dataset_id': 'key-utility-407314.eh_ga4_prod', 'query_path': 'C:/_repos/google-analytics-insight-generation/sql/__prod_users_details.sql', 'schema': [{'name': 'name', 'type': 'STRING', 'mode': 'REQUIRED'}, {'name': 'age', 'type': 'INTEGER', 'mode': 'REQUIRED'}]}}\n",
      "Finished creating table_id: '_transaction_items'. No preview available.\n",
      "\n",
      "\n"
     ]
    }
   ],
   "source": [
    "# loop \n",
    "for table_id in table_ids:\n",
    "    try:\n",
    "        # Get self.bq_table_config json\n",
    "        print(f\"this is the config.bq_table_config: {config.bq_table_config}\")\n",
    "        bq_table_config = config.bq_table_config[table_id]\n",
    "        print(f\"this is the bq_table_config: {config.bq_table_config}\")\n",
    "        \n",
    "        # Generate the query using the SQL file from bq_table_config['query_path']\n",
    "        query = bq_io.execute_query_from_filepath(\n",
    "            dataset_id = bq_table_config['dataset_id'],\n",
    "            table_id = table_id,\n",
    "            sql_file_path= bq_table_config['query_path'],\n",
    "            query_vs_create=query_vs_create\n",
    "        )\n",
    "\n",
    "        if query_vs_create == 'create':\n",
    "            print(f\"Finished creating table_id: '{table_id}'. No preview available.\")\n",
    "        else:\n",
    "            print(f\"Preview of query:\")\n",
    "            print(query.head(5))\n",
    "        print(\"\\n\")\n",
    "\n",
    "    except KeyError as e:\n",
    "        print(f\"KeyError encountered for table_id '{table_id}': {e}. This may be due to an invalid table_id in your config.\")\n",
    "    except Exception as e:\n",
    "        print(f\"An unexpected error occurred for table_id '{table_id}': {e}\")"
   ]
  },
  {
   "cell_type": "code",
   "execution_count": null,
   "id": "fd59adf7",
   "metadata": {},
   "outputs": [],
   "source": []
  }
 ],
 "metadata": {
  "kernelspec": {
   "display_name": "Python 3 (ipykernel)",
   "language": "python",
   "name": "python3"
  },
  "language_info": {
   "codemirror_mode": {
    "name": "ipython",
    "version": 3
   },
   "file_extension": ".py",
   "mimetype": "text/x-python",
   "name": "python",
   "nbconvert_exporter": "python",
   "pygments_lexer": "ipython3",
   "version": "3.12.0"
  }
 },
 "nbformat": 4,
 "nbformat_minor": 5
}
