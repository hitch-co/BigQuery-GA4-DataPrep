{
 "cells": [
  {
   "cell_type": "code",
   "execution_count": 1,
   "id": "dbadab72-9738-4b7c-acce-5cea76d5eb96",
   "metadata": {},
   "outputs": [],
   "source": [
    "# Import the necessary modules\n",
    "from google.cloud import bigquery\n",
    "\n",
    "from classes.bigquery_io import BigQueryIO\n",
    "from classes.ConfigManagerClass import ConfigManager\n",
    "from classes.ConfigManagerClass import ConfigManager\n",
    "\n",
    "#Setup configuration\n",
    "config = ConfigManager(\n",
    "    yaml_filepath='C:/Users/Admin/OneDrive/Desktop/_work/__repos (unpublished)/_____CONFIG/google-analytics-insight-generation/config',\n",
    "    yaml_filename='config.yaml'\n",
    "    )\n",
    "\n",
    "#Create Clients\n",
    "bq_client = bigquery.Client(project = config.bq_project_id)\n",
    "bq_io = BigQueryIO(bq_client)"
   ]
  },
  {
   "cell_type": "code",
   "execution_count": 2,
   "id": "e58706d9",
   "metadata": {},
   "outputs": [],
   "source": [
    "# Set params for this run\n",
    "query_vs_create = 'create'\n",
    "table_id = '_session_traffic_sources_and_details'"
   ]
  },
  {
   "cell_type": "code",
   "execution_count": 3,
   "id": "35e063f6",
   "metadata": {},
   "outputs": [
    {
     "name": "stdout",
     "output_type": "stream",
     "text": [
      "This is the bq_table_config: {'query_path': 'C:/_repos/google-analytics-insight-generation/sql/_session_traffic_sources_and_details.sql', 'schema': [{'name': 'name', 'type': 'STRING', 'mode': 'REQUIRED'}, {'name': 'age', 'type': 'INTEGER', 'mode': 'REQUIRED'}]}\n"
     ]
    }
   ],
   "source": [
    "# Load BQ Table Config from Json\n",
    "bq_table_config = config.bq_table_config[table_id]\n",
    "print(f\"This is the bq_table_config: {bq_table_config}\")"
   ]
  },
  {
   "cell_type": "code",
   "execution_count": 4,
   "id": "b6e27113-d04b-4c8d-9c9d-1dee51c0baf0",
   "metadata": {},
   "outputs": [
    {
     "name": "stderr",
     "output_type": "stream",
     "text": [
      "2024-01-15 14:33:37,432 - bigquery_io - INFO - Name: _generate_bq_query_from_file - Line: 28 - ---------------------------------\n",
      "2024-01-15 14:33:37,434 - bigquery_io - INFO - Name: _generate_bq_query_from_file - Line: 53 - The BigQuery table creation query for [_session_traffic_sources_and_details] was generated from a local file:\n",
      "2024-01-15 14:33:37,434 - bigquery_io - INFO - Name: _send_queryjob_to_bq - Line: 63 - Starting BigQuery job...\n",
      "2024-01-15 14:33:38,398 - bigquery_io - INFO - Name: _send_queryjob_to_bq - Line: 67 - Executing query... result to come:\n",
      "2024-01-15 14:33:40,851 - bigquery_io - INFO - Name: _send_queryjob_to_bq - Line: 68 - <google.cloud.bigquery.table._EmptyRowIterator object at 0x0000029667A4B620>\n"
     ]
    }
   ],
   "source": [
    "# Generate the query using the SQL file\n",
    "query = bq_io.generate_query_and_send_to_bq(\n",
    "    dataset_id = config.primary_bq_query_dataset_id,\n",
    "    table_id = table_id,\n",
    "    sql_file_path= bq_table_config['query_path'],\n",
    "    query_vs_create='create'\n",
    "    )"
   ]
  },
  {
   "cell_type": "code",
   "execution_count": null,
   "id": "db827cfc",
   "metadata": {},
   "outputs": [],
   "source": [
    "# Print result preview\n",
    "if query is not None:\n",
    "    print(\"dataframe is empty because query was a 'run' statement and not a 'create' statement\")\n",
    "    print(query.head(5))\n"
   ]
  }
 ],
 "metadata": {
  "kernelspec": {
   "display_name": "Python 3 (ipykernel)",
   "language": "python",
   "name": "python3"
  },
  "language_info": {
   "codemirror_mode": {
    "name": "ipython",
    "version": 3
   },
   "file_extension": ".py",
   "mimetype": "text/x-python",
   "name": "python",
   "nbconvert_exporter": "python",
   "pygments_lexer": "ipython3",
   "version": "3.12.0"
  }
 },
 "nbformat": 4,
 "nbformat_minor": 5
}
