{
 "cells": [
  {
   "cell_type": "code",
   "execution_count": 1,
   "id": "dbadab72-9738-4b7c-acce-5cea76d5eb96",
   "metadata": {},
   "outputs": [],
   "source": [
    "# Import the necessary modules\n",
    "from google.cloud import bigquery\n",
    "\n",
    "from classes.bigquery_io import BigQueryIO\n",
    "from classes.ConfigManagerClass import ConfigManager\n",
    "from classes.ConfigManagerClass import ConfigManager\n",
    "\n",
    "#Setup configuration\n",
    "config = ConfigManager(\n",
    "    yaml_filepath='C:/Users/Admin/OneDrive/Desktop/_work/__repos (unpublished)/_____CONFIG/google-analytics-insight-generation/config',\n",
    "    yaml_filename='config.yaml'\n",
    "    )\n",
    "\n",
    "#Create Clients\n",
    "bq_client = bigquery.Client(project = config.bq_project_id)\n",
    "bq_io = BigQueryIO(bq_client)"
   ]
  },
  {
   "cell_type": "code",
   "execution_count": 2,
   "id": "e58706d9",
   "metadata": {},
   "outputs": [],
   "source": [
    "# Set params for this run\n",
    "query_vs_create = 'create'\n",
    "table_id = '_user_traffic_sources_and_details'"
   ]
  },
  {
   "cell_type": "code",
   "execution_count": 3,
   "id": "35e063f6",
   "metadata": {},
   "outputs": [
    {
     "name": "stderr",
     "output_type": "stream",
     "text": [
      "2024-01-15 17:08:26,688 - bigquery_io - INFO - Name: _generate_bq_query_from_file - Line: 28 - \n",
      "---------------------------------\n",
      "2024-01-15 17:08:26,689 - bigquery_io - INFO - Name: _generate_bq_query_from_file - Line: 53 - The BigQuery table creation query for [_user_traffic_sources_and_details] was generated from a local file:\n"
     ]
    },
    {
     "name": "stdout",
     "output_type": "stream",
     "text": [
      "{'table_ids': ['_user_traffic_sources_and_details', '_session_traffic_sources_and_details', '__stg_user_purchase_sources_and_details']}\n"
     ]
    },
    {
     "name": "stderr",
     "output_type": "stream",
     "text": [
      "2024-01-15 17:08:29,891 - bigquery_io - INFO - Name: _generate_bq_query_from_file - Line: 28 - \n",
      "---------------------------------\n",
      "2024-01-15 17:08:29,892 - bigquery_io - INFO - Name: _generate_bq_query_from_file - Line: 53 - The BigQuery table creation query for [_session_traffic_sources_and_details] was generated from a local file:\n"
     ]
    },
    {
     "name": "stdout",
     "output_type": "stream",
     "text": [
      "dataframe is empty because query was a 'run' statement and not a 'create' statement\n",
      "Empty DataFrame\n",
      "Columns: []\n",
      "Index: []\n"
     ]
    },
    {
     "name": "stderr",
     "output_type": "stream",
     "text": [
      "2024-01-15 17:08:32,051 - bigquery_io - INFO - Name: _generate_bq_query_from_file - Line: 28 - \n",
      "---------------------------------\n",
      "2024-01-15 17:08:32,052 - bigquery_io - INFO - Name: _generate_bq_query_from_file - Line: 53 - The BigQuery table creation query for [__stg_user_purchase_sources_and_details] was generated from a local file:\n"
     ]
    },
    {
     "name": "stdout",
     "output_type": "stream",
     "text": [
      "dataframe is empty because query was a 'run' statement and not a 'create' statement\n",
      "Empty DataFrame\n",
      "Columns: []\n",
      "Index: []\n",
      "dataframe is empty because query was a 'run' statement and not a 'create' statement\n",
      "Empty DataFrame\n",
      "Columns: []\n",
      "Index: []\n"
     ]
    }
   ],
   "source": [
    "# Get ready for looping!\n",
    "print(config.runtime_table_ids_json)\n",
    "for table_id in config.runtime_table_ids_json['table_ids']:\n",
    "\n",
    "    # Get self.bq_table_config json\n",
    "    bq_table_config = config.bq_table_config[table_id]\n",
    "\n",
    "    # Generate the query using the SQL file from bq_table_config['query_path']\n",
    "    query = bq_io.generate_query_and_send_to_bq(\n",
    "        dataset_id = config.primary_bq_query_dataset_id,\n",
    "        table_id = table_id,\n",
    "        sql_file_path= bq_table_config['query_path'],\n",
    "        query_vs_create=query_vs_create\n",
    "    )\n",
    "\n",
    "    # Print result preview\n",
    "    if query is not None:\n",
    "        print(\"dataframe is empty because query was a 'run' statement and not a 'create' statement\")\n",
    "        print(query.head(5))"
   ]
  }
 ],
 "metadata": {
  "kernelspec": {
   "display_name": "Python 3 (ipykernel)",
   "language": "python",
   "name": "python3"
  },
  "language_info": {
   "codemirror_mode": {
    "name": "ipython",
    "version": 3
   },
   "file_extension": ".py",
   "mimetype": "text/x-python",
   "name": "python",
   "nbconvert_exporter": "python",
   "pygments_lexer": "ipython3",
   "version": "3.12.0"
  }
 },
 "nbformat": 4,
 "nbformat_minor": 5
}
